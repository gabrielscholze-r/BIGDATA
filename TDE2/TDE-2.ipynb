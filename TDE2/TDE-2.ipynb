{
  "nbformat": 4,
  "nbformat_minor": 0,
  "metadata": {
    "colab": {
      "name": "tdespark.ipynb",
      "provenance": [],
      "collapsed_sections": []
    },
    "kernelspec": {
      "name": "python3",
      "display_name": "Python 3"
    },
    "language_info": {
      "name": "python"
    }
  },
  "cells": [
    {
      "cell_type": "code",
      "execution_count": null,
      "metadata": {
        "id": "8pSuA-_ZVntG",
        "colab": {
          "base_uri": "https://localhost:8080/"
        },
        "outputId": "ec8e7125-5b35-47af-b03b-0c5289cca516"
      },
      "outputs": [
        {
          "output_type": "stream",
          "name": "stdout",
          "text": [
            "Collecting pyspark\n",
            "  Downloading pyspark-3.2.1.tar.gz (281.4 MB)\n",
            "\u001b[K     |████████████████████████████████| 281.4 MB 32 kB/s \n",
            "\u001b[?25hCollecting py4j==0.10.9.3\n",
            "  Downloading py4j-0.10.9.3-py2.py3-none-any.whl (198 kB)\n",
            "\u001b[K     |████████████████████████████████| 198 kB 51.2 MB/s \n",
            "\u001b[?25hBuilding wheels for collected packages: pyspark\n",
            "  Building wheel for pyspark (setup.py) ... \u001b[?25l\u001b[?25hdone\n",
            "  Created wheel for pyspark: filename=pyspark-3.2.1-py2.py3-none-any.whl size=281853642 sha256=fd914ff15f0b9cf2492c84d5e3921cb40d4cdff7ddb85b509ddf85ae0b929ca1\n",
            "  Stored in directory: /root/.cache/pip/wheels/9f/f5/07/7cd8017084dce4e93e84e92efd1e1d5334db05f2e83bcef74f\n",
            "Successfully built pyspark\n",
            "Installing collected packages: py4j, pyspark\n",
            "Successfully installed py4j-0.10.9.3 pyspark-3.2.1\n"
          ]
        }
      ],
      "source": [
        "!pip install pyspark"
      ]
    },
    {
      "cell_type": "code",
      "source": [
        "import pyspark\n",
        "from pyspark.sql import SparkSession\n",
        "from pyspark import SparkFiles\n",
        "\n",
        "spark = SparkSession.builder.master('local[*]').appName('Scholze').getOrCreate()\n",
        "sc = spark.sparkContext\n",
        "\n",
        "sc.addFile('/content/drive/MyDrive/BIGDATA/transactions_amostra.csv')\n",
        "\n",
        "rdd = sc.textFile(\"file://\" + SparkFiles.get('transactions_amostra.csv'))\n",
        "\n",
        "palavras = rdd.map(lambda x: x.split(\";\")).filter(lambda x: x[1].isnumeric()) \n"
      ],
      "metadata": {
        "id": "wC7WeJJ4zCNW"
      },
      "execution_count": null,
      "outputs": []
    },
    {
      "cell_type": "code",
      "source": [
        "#Questão 1\n",
        "pais = palavras.filter(lambda x: x[0]=='Brazil')\n",
        "pais.take(10)\n",
        "pais.countByKey().items()"
      ],
      "metadata": {
        "id": "6m3_78A3zCJ-",
        "colab": {
          "base_uri": "https://localhost:8080/"
        },
        "outputId": "e749e142-4333-4544-dc43-c8cacd484365"
      },
      "execution_count": null,
      "outputs": [
        {
          "output_type": "execute_result",
          "data": {
            "text/plain": [
              "dict_items([('Brazil', 54762)])"
            ]
          },
          "metadata": {},
          "execution_count": 4
        }
      ]
    },
    {
      "cell_type": "code",
      "source": [
        "#Questão 2\n",
        "anos = palavras.map(lambda x: (x[1], 1))\n",
        "anos.countByKey()"
      ],
      "metadata": {
        "id": "cFyuSb7uzCHP",
        "colab": {
          "base_uri": "https://localhost:8080/"
        },
        "outputId": "c19c4a7e-5c39-4a55-8edf-b5f61289f999"
      },
      "execution_count": null,
      "outputs": [
        {
          "output_type": "execute_result",
          "data": {
            "text/plain": [
              "defaultdict(int,\n",
              "            {'1988': 8568,\n",
              "             '1989': 16916,\n",
              "             '1990': 18188,\n",
              "             '1991': 22652,\n",
              "             '1992': 32860,\n",
              "             '1993': 42031,\n",
              "             '1994': 54143,\n",
              "             '1995': 63875,\n",
              "             '1996': 70390,\n",
              "             '1997': 77876,\n",
              "             '1998': 81117,\n",
              "             '1999': 86191,\n",
              "             '2000': 97572,\n",
              "             '2001': 97240,\n",
              "             '2002': 97202,\n",
              "             '2003': 101125,\n",
              "             '2004': 103671,\n",
              "             '2005': 105913,\n",
              "             '2006': 109186,\n",
              "             '2007': 105891,\n",
              "             '2008': 102680,\n",
              "             '2009': 105686,\n",
              "             '2010': 105407,\n",
              "             '2011': 105486,\n",
              "             '2012': 102989,\n",
              "             '2013': 104734,\n",
              "             '2014': 103231,\n",
              "             '2015': 101973,\n",
              "             '2016': 82277})"
            ]
          },
          "metadata": {},
          "execution_count": 5
        }
      ]
    },
    {
      "cell_type": "code",
      "source": [
        "#Questao 3\n",
        "result = palavras.map(lambda x: (x[1] + \" \" + x[4], 1))\n",
        "\n",
        "result.countByKey()"
      ],
      "metadata": {
        "id": "tPOY_2P5zCEv",
        "colab": {
          "base_uri": "https://localhost:8080/"
        },
        "outputId": "0fcf4179-0664-4f2f-fc9b-07d1fc05edc6"
      },
      "execution_count": null,
      "outputs": [
        {
          "output_type": "execute_result",
          "data": {
            "text/plain": [
              "defaultdict(int,\n",
              "            {'1988 Export': 3542,\n",
              "             '1988 Import': 4268,\n",
              "             '1988 Re-Export': 758,\n",
              "             '1989 Export': 7092,\n",
              "             '1989 Import': 8845,\n",
              "             '1989 Re-Export': 979,\n",
              "             '1990 Export': 7508,\n",
              "             '1990 Import': 9642,\n",
              "             '1990 Re-Export': 1038,\n",
              "             '1991 Export': 9011,\n",
              "             '1991 Import': 12331,\n",
              "             '1991 Re-Export': 1310,\n",
              "             '1992 Export': 12507,\n",
              "             '1992 Import': 18840,\n",
              "             '1992 Re-Export': 1513,\n",
              "             '1993 Export': 15599,\n",
              "             '1993 Import': 24450,\n",
              "             '1993 Re-Export': 1982,\n",
              "             '1994 Export': 20624,\n",
              "             '1994 Import': 31425,\n",
              "             '1994 Re-Export': 2094,\n",
              "             '1995 Export': 22891,\n",
              "             '1995 Import': 38679,\n",
              "             '1995 Re-Export': 2305,\n",
              "             '1996 Export': 25472,\n",
              "             '1996 Import': 42467,\n",
              "             '1996 Re-Export': 2451,\n",
              "             '1997 Export': 27182,\n",
              "             '1997 Import': 47599,\n",
              "             '1997 Re-Export': 3095,\n",
              "             '1998 Export': 28230,\n",
              "             '1998 Import': 49870,\n",
              "             '1998 Re-Export': 3017,\n",
              "             '1999 Export': 29882,\n",
              "             '1999 Import': 52260,\n",
              "             '1999 Re-Export': 4049,\n",
              "             '2000 Export': 33582,\n",
              "             '2000 Import': 58004,\n",
              "             '2000 Re-Export': 4065,\n",
              "             '2000 Re-Import': 1921,\n",
              "             '2001 Export': 33235,\n",
              "             '2001 Import': 58276,\n",
              "             '2001 Re-Export': 3697,\n",
              "             '2001 Re-Import': 2032,\n",
              "             '2002 Export': 33822,\n",
              "             '2002 Import': 58057,\n",
              "             '2002 Re-Export': 3141,\n",
              "             '2002 Re-Import': 2182,\n",
              "             '2003 Export': 35102,\n",
              "             '2003 Import': 60183,\n",
              "             '2003 Re-Export': 3349,\n",
              "             '2003 Re-Import': 2491,\n",
              "             '2004 Export': 35912,\n",
              "             '2004 Import': 61617,\n",
              "             '2004 Re-Export': 3723,\n",
              "             '2004 Re-Import': 2419,\n",
              "             '2005 Export': 36090,\n",
              "             '2005 Import': 62477,\n",
              "             '2005 Re-Export': 4685,\n",
              "             '2005 Re-Import': 2661,\n",
              "             '2006 Export': 36981,\n",
              "             '2006 Import': 64345,\n",
              "             '2006 Re-Export': 4877,\n",
              "             '2006 Re-Import': 2983,\n",
              "             '2007 Export': 35196,\n",
              "             '2007 Import': 63504,\n",
              "             '2007 Re-Export': 4551,\n",
              "             '2007 Re-Import': 2640,\n",
              "             '2008 Export': 35026,\n",
              "             '2008 Import': 60165,\n",
              "             '2008 Re-Export': 4713,\n",
              "             '2008 Re-Import': 2776,\n",
              "             '2009 Export': 35489,\n",
              "             '2009 Import': 62347,\n",
              "             '2009 Re-Export': 5084,\n",
              "             '2009 Re-Import': 2766,\n",
              "             '2010 Export': 35355,\n",
              "             '2010 Import': 62639,\n",
              "             '2010 Re-Export': 4814,\n",
              "             '2010 Re-Import': 2599,\n",
              "             '2011 Export': 35521,\n",
              "             '2011 Import': 62270,\n",
              "             '2011 Re-Export': 4838,\n",
              "             '2011 Re-Import': 2857,\n",
              "             '2012 Export': 35241,\n",
              "             '2012 Import': 60232,\n",
              "             '2012 Re-Export': 4657,\n",
              "             '2012 Re-Import': 2859,\n",
              "             '2013 Export': 36090,\n",
              "             '2013 Import': 61273,\n",
              "             '2013 Re-Export': 4520,\n",
              "             '2013 Re-Import': 2851,\n",
              "             '2014 Export': 35890,\n",
              "             '2014 Import': 58866,\n",
              "             '2014 Re-Export': 5573,\n",
              "             '2014 Re-Import': 2902,\n",
              "             '2015 Export': 35759,\n",
              "             '2015 Import': 57960,\n",
              "             '2015 Re-Export': 5249,\n",
              "             '2015 Re-Import': 3005,\n",
              "             '2016 Export': 30538,\n",
              "             '2016 Import': 45236,\n",
              "             '2016 Re-Export': 4537,\n",
              "             '2016 Re-Import': 1966})"
            ]
          },
          "metadata": {},
          "execution_count": 6
        }
      ]
    },
    {
      "cell_type": "code",
      "source": [
        "#Questao 4\n",
        "# .groupByKey().map(lambda x: (x[0],sum(x[1])/len(x[1]))).take(5)\n",
        "palavras.map(lambda x: (x[1], (float(x[5]),1))).reduceByKey(lambda x,y: (x[0]+y[0], x[1]+y[1])).mapValues(lambda x: x[0]/x[1]).take(10)"
      ],
      "metadata": {
        "id": "e60ons53zCCM",
        "colab": {
          "base_uri": "https://localhost:8080/"
        },
        "outputId": "0996d76d-7c24-4874-8976-90c8a8e56750"
      },
      "execution_count": null,
      "outputs": [
        {
          "output_type": "execute_result",
          "data": {
            "text/plain": [
              "[('2011', 37056771.709060915),\n",
              " ('1991', 12069165.192609925),\n",
              " ('2005', 17458172.20780263),\n",
              " ('1999', 9328194.404264946),\n",
              " ('2000', 12780250.522332227),\n",
              " ('2009', 25688655.388272807),\n",
              " ('2014', 40771480.2568802),\n",
              " ('2012', 36993817.061880395),\n",
              " ('2004', 15283774.17530457),\n",
              " ('2002', 11605774.994269665)]"
            ]
          },
          "metadata": {},
          "execution_count": 7
        }
      ]
    },
    {
      "cell_type": "code",
      "source": [
        "#5  \n",
        "#The average price of commodities per unit type, year, and category \n",
        "#in the export flow in Brazil;\n",
        "# .groupByKey().map(lambda x: (x[0], sum(x[1])/len(x[1]))).take(10)\n",
        "palavras.filter(lambda x: x[0]==\"Brazil\" and x[4]==\"Export\")\\\n",
        ".map(lambda x: (x[1]+\" \"+ x[7]+ \" \"+x[9],(float(x[5]),1))).reduceByKey(lambda x,y: (x[0]+y[0], x[1]+y[1])).mapValues(lambda x: x[0]/x[1]).take(10)\n",
        "\n",
        "\n"
      ],
      "metadata": {
        "id": "NVoFb4D9zB_i",
        "colab": {
          "base_uri": "https://localhost:8080/"
        },
        "outputId": "f6c57d13-11a3-4cd6-c061-275f346d4fc8"
      },
      "execution_count": null,
      "outputs": [
        {
          "output_type": "execute_result",
          "data": {
            "text/plain": [
              "[('2016 Weight in kilograms 62_articles_of_apparel_accessories_not_knit_or_crochet',\n",
              "  244220.66666666666),\n",
              " ('2014 Weight in kilograms 40_rubber_and_articles_thereof', 4892977.92),\n",
              " ('2014 Weight in kilograms 58_special_woven_or_tufted_fabric_lace_tapestry_etc',\n",
              "  4610716.3),\n",
              " ('2005 Weight in kilograms 20_vegetable_fruit_nut_etc_food_preparations',\n",
              "  4404850.0),\n",
              " ('2014 Weight in kilograms 60_knitted_or_crocheted_fabric',\n",
              "  3110808.285714286),\n",
              " ('1993 Weight in kilograms 39_plastics_and_articles_thereof',\n",
              "  8011417.485714286),\n",
              " ('1990 Weight in kilograms 62_articles_of_apparel_accessories_not_knit_or_crochet',\n",
              "  885587.6666666666),\n",
              " ('2000 Weight in kilograms 30_pharmaceutical_products', 14549887.0),\n",
              " ('2013 Weight in kilograms 02_meat_and_edible_meat_offal', 569188439.9090909),\n",
              " ('2000 Weight in kilograms 72_iron_and_steel', 11737204.325581396)]"
            ]
          },
          "metadata": {},
          "execution_count": 13
        }
      ]
    },
    {
      "cell_type": "code",
      "source": [
        "#6\n",
        "#The maximum, minimum, and mean transaction price per unit type and year;\n",
        "# .groupByKey().map(lambda x: (x[0],[max(x[1]),min(x[1]),sum(x[1])/len(x[1])])).collect()\n",
        "\n",
        "palavras.map(lambda x: (x[7] + \" \"+x[1],(float(x[5]),float(x[5]),float(x[5]),1.0)))\\\n",
        ".reduceByKey(lambda x,y: (x[0] if x[0]>y[0] else y[0],\\\n",
        "                          x[1] if x[1]<y[1] else y[1],\\\n",
        "                           x[2]+y[2], x[3]+y[3]))\\\n",
        "                           .map(lambda x: (x[0], (x[1][0],x[1][1], x[1][2]/x[1][3]))).take(10)\n",
        "\n",
        "# alternativa\n",
        "# palavras.map(lambda x: (x[7] + \" \"+x[1],float(x[5]))).groupByKey().map(lambda x: (x[0],[max(x[1]),min(x[1]),sum(x[1])/len(x[1])])).collect()"
      ],
      "metadata": {
        "id": "uIC6SI7MzB0t",
        "colab": {
          "base_uri": "https://localhost:8080/"
        },
        "outputId": "e8b66601-c4c9-4664-db1e-c0462fdfc8c7"
      },
      "execution_count": null,
      "outputs": [
        {
          "output_type": "execute_result",
          "data": {
            "text/plain": [
              "[('Volume in litres 2008', (3829869298.0, 2.0, 38542120.40059568)),\n",
              " ('Number of items 2002', (12582020967.0, 1.0, 16623866.827907434)),\n",
              " ('Weight in kilograms 1989', (5450526322.0, 1.0, 10364929.182174472)),\n",
              " ('Number of items 1993', (12730875972.0, 6.0, 29663512.0132964)),\n",
              " ('Area in square metres 2008', (1389350118.0, 9.0, 8935352.723)),\n",
              " ('Volume in litres 1993', (7105830176.0, 3.0, 36107479.83391978)),\n",
              " ('Area in square metres 1996', (594472645.0, 31.0, 8351314.379190751)),\n",
              " ('Number of pairs 1992', (829395508.0, 6.0, 31690831.04901961)),\n",
              " ('Volume in cubic meters 2004', (2770633668.0, 10.0, 42774729.605536334)),\n",
              " ('Number of pairs 2010', (4959592644.0, 5.0, 33584526.91748004))]"
            ]
          },
          "metadata": {},
          "execution_count": 9
        }
      ]
    },
    {
      "cell_type": "markdown",
      "source": [
        ""
      ],
      "metadata": {
        "id": "WVdq_7gbqtXb"
      }
    },
    {
      "cell_type": "code",
      "source": [
        "#7 The  most  commercialized  commodity  (summing  the  quantities)  in  2016,  per  flow type. \n",
        "palavras.filter(lambda x: x[1]==\"2016\")\\\n",
        ".map(lambda x: ((x[4],x[3]),float(x[8])))\\\n",
        ".groupByKey().map(lambda x: (x[0][0], (sum(x[1]),x[0][1])))\\\n",
        ".reduceByKey(lambda x,y: x if x>y else y).collect()"
      ],
      "metadata": {
        "id": "5D5Hd5Ozz2_n",
        "colab": {
          "base_uri": "https://localhost:8080/"
        },
        "outputId": "95807681-0a9d-47af-e6b3-99a749ec7fd9"
      },
      "execution_count": null,
      "outputs": [
        {
          "output_type": "execute_result",
          "data": {
            "text/plain": [
              "[('Re-Export',\n",
              "  (1261968000.0, 'Safety razor blades, including blanks in strips')),\n",
              " ('Export',\n",
              "  (699847369665.0, 'Ice, snow and potable water not sweetened or flavoure')),\n",
              " ('Re-Import',\n",
              "  (38774873.0, 'Chem wood pulp, soda/sulphate, non-conifer, bleached')),\n",
              " ('Import',\n",
              "  (1073469712878.0, 'Iron ore, concentrate, not iron pyrites,unagglomerate'))]"
            ]
          },
          "metadata": {},
          "execution_count": 10
        }
      ]
    }
  ]
}