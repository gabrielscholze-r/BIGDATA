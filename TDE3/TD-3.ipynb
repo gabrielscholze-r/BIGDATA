{
  "nbformat": 4,
  "nbformat_minor": 0,
  "metadata": {
    "colab": {
      "name": "TDEsparkSQL.ipynb",
      "provenance": []
    },
    "kernelspec": {
      "name": "python3",
      "display_name": "Python 3"
    },
    "language_info": {
      "name": "python"
    }
  },
  "cells": [
    {
      "cell_type": "code",
      "execution_count": null,
      "metadata": {
        "colab": {
          "base_uri": "https://localhost:8080/"
        },
        "id": "8gSGJdgf81Td",
        "outputId": "d2de6218-d1d6-4459-c143-fa68fd5affac"
      },
      "outputs": [
        {
          "output_type": "stream",
          "name": "stdout",
          "text": [
            "Looking in indexes: https://pypi.org/simple, https://us-python.pkg.dev/colab-wheels/public/simple/\n",
            "Collecting pyspark\n",
            "  Downloading pyspark-3.2.1.tar.gz (281.4 MB)\n",
            "\u001b[K     |████████████████████████████████| 281.4 MB 31 kB/s \n",
            "\u001b[?25hCollecting py4j==0.10.9.3\n",
            "  Downloading py4j-0.10.9.3-py2.py3-none-any.whl (198 kB)\n",
            "\u001b[K     |████████████████████████████████| 198 kB 54.2 MB/s \n",
            "\u001b[?25hBuilding wheels for collected packages: pyspark\n",
            "  Building wheel for pyspark (setup.py) ... \u001b[?25l\u001b[?25hdone\n",
            "  Created wheel for pyspark: filename=pyspark-3.2.1-py2.py3-none-any.whl size=281853642 sha256=9dabfeb8996d3afc61bf59e76474b5fc11b47456f4bbdfafddbb886d3b64c818\n",
            "  Stored in directory: /root/.cache/pip/wheels/9f/f5/07/7cd8017084dce4e93e84e92efd1e1d5334db05f2e83bcef74f\n",
            "Successfully built pyspark\n",
            "Installing collected packages: py4j, pyspark\n",
            "Successfully installed py4j-0.10.9.3 pyspark-3.2.1\n"
          ]
        }
      ],
      "source": [
        "!pip install pyspark\n"
      ]
    },
    {
      "cell_type": "code",
      "source": [
        "# https://www.dropbox.com/s/cjztq44o5k7imwu/transactions_amostra.csv?dl=1\n",
        "\n",
        "import pyspark\n",
        "import pyspark.sql.functions\n",
        "from pyspark.sql import SparkSession\n",
        "spark = SparkSession.builder.master('local[*]').appName('Scholze').getOrCreate()\n",
        "spark.conf.set(\"spark.sql.repl.eagerEval.enabled\", True)"
      ],
      "metadata": {
        "id": "cNkJ7Jfc-SzM"
      },
      "execution_count": null,
      "outputs": []
    },
    {
      "cell_type": "code",
      "source": [
        "df = spark.read.csv(\"/content/drive/MyDrive/BIGDATA/transactions_amostra.csv\", header=True, inferSchema=True,  sep=\";\")\n",
        "df"
      ],
      "metadata": {
        "id": "tAA55wZf-mmu",
        "colab": {
          "base_uri": "https://localhost:8080/",
          "height": 517
        },
        "outputId": "5e29bfa7-afc9-426e-dd31-dec96c4b16cf"
      },
      "execution_count": null,
      "outputs": [
        {
          "output_type": "execute_result",
          "data": {
            "text/plain": [
              "+--------------------+----+---------+--------------------+---------+---------+------------+-------------------+------------+--------------------+\n",
              "|     country_or_area|year|comm_code|           commodity|     flow|trade_usd|   weight_kg|      quantity_name|    quantity|            category|\n",
              "+--------------------+----+---------+--------------------+---------+---------+------------+-------------------+------------+--------------------+\n",
              "|             Belgium|2016|   920510|Brass-wind instru...|   Export|   571297|      3966.0|    Number of items|      4135.0|92_musical_instru...|\n",
              "|           Guatemala|2008|   660200|Walking-sticks, s...|   Export|    35022|      5575.0|    Number of items|     10089.0|66_umbrellas_walk...|\n",
              "|            Barbados|2006|   220210|Beverage waters, ...|Re-Export|    81058|     44458.0|   Volume in litres|     24113.0|22_beverages_spir...|\n",
              "|             Tunisia|2016|   780411|Lead foil of a th...|   Import|     4658|       121.0|Weight in kilograms|       121.0|78_lead_and_artic...|\n",
              "|           Lithuania|1996|   560110|Sanitary towels, ...|   Export|    76499|      5419.0|Weight in kilograms|      5419.0|56_wadding_felt_n...|\n",
              "|             Denmark|2011|   310100|Animal or vegetab...|   Export|  4903675|  1.902844E7|Weight in kilograms|  1.902844E7|      31_fertilizers|\n",
              "|            Thailand|1994|   920290|String musical in...|   Import|  2088672|         0.0|    Number of items|     59595.0|92_musical_instru...|\n",
              "|            Portugal|2004|   511119|Woven fabric, >85...|   Export|  1546575|     87367.0|Weight in kilograms|     87367.0|51_wool_animal_ha...|\n",
              "|               Congo|2011|   420690|Articles of gut, ...|   Export|      883|         9.0|Weight in kilograms|         9.0|42_articles_of_le...|\n",
              "| Antigua and Barbuda|2016|   620332|Mens, boys jacket...|   Export|    12988|      1403.0|    Number of items|       648.0|62_articles_of_ap...|\n",
              "|            Pakistan|2016|   920999|Parts and accesso...|   Export|   359131|     66284.0|Weight in kilograms|     66284.0|92_musical_instru...|\n",
              "|             Albania|2013|   610322|Mens, boys ensemb...|   Import|   180103|     13031.0|    Number of items|     25763.0|61_articles_of_ap...|\n",
              "|          Azerbaijan|1998|   721119|Hot rolled iron o...|   Import|     6239|     64941.0|Weight in kilograms|     64941.0|   72_iron_and_steel|\n",
              "| Antigua and Barbuda|2009|   511120|Woven fabric, car...|   Import|     1482|        30.0|Weight in kilograms|        30.0|51_wool_animal_ha...|\n",
              "|             Namibia|2003|    50900|Sponges, natural,...|   Export|     6349|      6750.0|Weight in kilograms|      6750.0|05_products_of_an...|\n",
              "|             Germany|1991|   950330|Construction sets...|   Export| 29924000|   2649521.0|Weight in kilograms|   2649521.0|95_toys_games_spo...|\n",
              "|Central African Rep.|2008|   220290|Non-alcoholic bev...|   Import|    32470|     30725.0|   Volume in litres|     30725.0|22_beverages_spir...|\n",
              "|             Algeria|2010|    80300|Bananas, includin...|   Import|105558708|2.07859307E8|Weight in kilograms|2.07859307E8|08_edible_fruit_n...|\n",
              "|              France|2009|    71230|Mushrooms and tru...|Re-Import|   219297|      7400.0|Weight in kilograms|      7400.0|07_edible_vegetab...|\n",
              "|             Albania|2003|    71220|Onions, dried, no...|   Import|    13674|     30314.0|Weight in kilograms|     30314.0|07_edible_vegetab...|\n",
              "+--------------------+----+---------+--------------------+---------+---------+------------+-------------------+------------+--------------------+\n",
              "only showing top 20 rows"
            ],
            "text/html": [
              "<table border='1'>\n",
              "<tr><th>country_or_area</th><th>year</th><th>comm_code</th><th>commodity</th><th>flow</th><th>trade_usd</th><th>weight_kg</th><th>quantity_name</th><th>quantity</th><th>category</th></tr>\n",
              "<tr><td>Belgium</td><td>2016</td><td>920510</td><td>Brass-wind instru...</td><td>Export</td><td>571297</td><td>3966.0</td><td>Number of items</td><td>4135.0</td><td>92_musical_instru...</td></tr>\n",
              "<tr><td>Guatemala</td><td>2008</td><td>660200</td><td>Walking-sticks, s...</td><td>Export</td><td>35022</td><td>5575.0</td><td>Number of items</td><td>10089.0</td><td>66_umbrellas_walk...</td></tr>\n",
              "<tr><td>Barbados</td><td>2006</td><td>220210</td><td>Beverage waters, ...</td><td>Re-Export</td><td>81058</td><td>44458.0</td><td>Volume in litres</td><td>24113.0</td><td>22_beverages_spir...</td></tr>\n",
              "<tr><td>Tunisia</td><td>2016</td><td>780411</td><td>Lead foil of a th...</td><td>Import</td><td>4658</td><td>121.0</td><td>Weight in kilograms</td><td>121.0</td><td>78_lead_and_artic...</td></tr>\n",
              "<tr><td>Lithuania</td><td>1996</td><td>560110</td><td>Sanitary towels, ...</td><td>Export</td><td>76499</td><td>5419.0</td><td>Weight in kilograms</td><td>5419.0</td><td>56_wadding_felt_n...</td></tr>\n",
              "<tr><td>Denmark</td><td>2011</td><td>310100</td><td>Animal or vegetab...</td><td>Export</td><td>4903675</td><td>1.902844E7</td><td>Weight in kilograms</td><td>1.902844E7</td><td>31_fertilizers</td></tr>\n",
              "<tr><td>Thailand</td><td>1994</td><td>920290</td><td>String musical in...</td><td>Import</td><td>2088672</td><td>0.0</td><td>Number of items</td><td>59595.0</td><td>92_musical_instru...</td></tr>\n",
              "<tr><td>Portugal</td><td>2004</td><td>511119</td><td>Woven fabric, &gt;85...</td><td>Export</td><td>1546575</td><td>87367.0</td><td>Weight in kilograms</td><td>87367.0</td><td>51_wool_animal_ha...</td></tr>\n",
              "<tr><td>Congo</td><td>2011</td><td>420690</td><td>Articles of gut, ...</td><td>Export</td><td>883</td><td>9.0</td><td>Weight in kilograms</td><td>9.0</td><td>42_articles_of_le...</td></tr>\n",
              "<tr><td>Antigua and Barbuda</td><td>2016</td><td>620332</td><td>Mens, boys jacket...</td><td>Export</td><td>12988</td><td>1403.0</td><td>Number of items</td><td>648.0</td><td>62_articles_of_ap...</td></tr>\n",
              "<tr><td>Pakistan</td><td>2016</td><td>920999</td><td>Parts and accesso...</td><td>Export</td><td>359131</td><td>66284.0</td><td>Weight in kilograms</td><td>66284.0</td><td>92_musical_instru...</td></tr>\n",
              "<tr><td>Albania</td><td>2013</td><td>610322</td><td>Mens, boys ensemb...</td><td>Import</td><td>180103</td><td>13031.0</td><td>Number of items</td><td>25763.0</td><td>61_articles_of_ap...</td></tr>\n",
              "<tr><td>Azerbaijan</td><td>1998</td><td>721119</td><td>Hot rolled iron o...</td><td>Import</td><td>6239</td><td>64941.0</td><td>Weight in kilograms</td><td>64941.0</td><td>72_iron_and_steel</td></tr>\n",
              "<tr><td>Antigua and Barbuda</td><td>2009</td><td>511120</td><td>Woven fabric, car...</td><td>Import</td><td>1482</td><td>30.0</td><td>Weight in kilograms</td><td>30.0</td><td>51_wool_animal_ha...</td></tr>\n",
              "<tr><td>Namibia</td><td>2003</td><td>50900</td><td>Sponges, natural,...</td><td>Export</td><td>6349</td><td>6750.0</td><td>Weight in kilograms</td><td>6750.0</td><td>05_products_of_an...</td></tr>\n",
              "<tr><td>Germany</td><td>1991</td><td>950330</td><td>Construction sets...</td><td>Export</td><td>29924000</td><td>2649521.0</td><td>Weight in kilograms</td><td>2649521.0</td><td>95_toys_games_spo...</td></tr>\n",
              "<tr><td>Central African Rep.</td><td>2008</td><td>220290</td><td>Non-alcoholic bev...</td><td>Import</td><td>32470</td><td>30725.0</td><td>Volume in litres</td><td>30725.0</td><td>22_beverages_spir...</td></tr>\n",
              "<tr><td>Algeria</td><td>2010</td><td>80300</td><td>Bananas, includin...</td><td>Import</td><td>105558708</td><td>2.07859307E8</td><td>Weight in kilograms</td><td>2.07859307E8</td><td>08_edible_fruit_n...</td></tr>\n",
              "<tr><td>France</td><td>2009</td><td>71230</td><td>Mushrooms and tru...</td><td>Re-Import</td><td>219297</td><td>7400.0</td><td>Weight in kilograms</td><td>7400.0</td><td>07_edible_vegetab...</td></tr>\n",
              "<tr><td>Albania</td><td>2003</td><td>71220</td><td>Onions, dried, no...</td><td>Import</td><td>13674</td><td>30314.0</td><td>Weight in kilograms</td><td>30314.0</td><td>07_edible_vegetab...</td></tr>\n",
              "</table>\n",
              "only showing top 20 rows\n"
            ]
          },
          "metadata": {},
          "execution_count": 5
        }
      ]
    },
    {
      "cell_type": "code",
      "source": [
        "from pyspark.sql.functions import col, avg"
      ],
      "metadata": {
        "id": "tAzJ4gflkZ1t"
      },
      "execution_count": null,
      "outputs": []
    },
    {
      "cell_type": "code",
      "source": [
        "df.printSchema()"
      ],
      "metadata": {
        "colab": {
          "base_uri": "https://localhost:8080/"
        },
        "id": "Yi9Dw-r3_-ie",
        "outputId": "817889f3-3011-453b-c563-a40947077a95"
      },
      "execution_count": null,
      "outputs": [
        {
          "output_type": "stream",
          "name": "stdout",
          "text": [
            "root\n",
            " |-- country_or_area: string (nullable = true)\n",
            " |-- year: integer (nullable = true)\n",
            " |-- comm_code: string (nullable = true)\n",
            " |-- commodity: string (nullable = true)\n",
            " |-- flow: string (nullable = true)\n",
            " |-- trade_usd: long (nullable = true)\n",
            " |-- weight_kg: double (nullable = true)\n",
            " |-- quantity_name: string (nullable = true)\n",
            " |-- quantity: double (nullable = true)\n",
            " |-- category: string (nullable = true)\n",
            "\n"
          ]
        }
      ]
    },
    {
      "cell_type": "code",
      "source": [
        "#Question 1\n",
        "brazil = df.filter(col(\"country_or_area\").like(\"Brazil\")).count()\n",
        "brazil"
      ],
      "metadata": {
        "id": "bDTNOJ3J-5ed",
        "colab": {
          "base_uri": "https://localhost:8080/"
        },
        "outputId": "42c7149e-7007-47d1-bc42-a2efbeef13b3"
      },
      "execution_count": null,
      "outputs": [
        {
          "output_type": "execute_result",
          "data": {
            "text/plain": [
              "54762"
            ]
          },
          "metadata": {},
          "execution_count": 12
        }
      ]
    },
    {
      "cell_type": "code",
      "source": [
        "#Question 2\n",
        "years = df.select(\"year\").groupBy(\"year\").count()\n",
        "years"
      ],
      "metadata": {
        "id": "rRAxvdOF-_iY"
      },
      "execution_count": null,
      "outputs": []
    },
    {
      "cell_type": "code",
      "source": [
        "#Question 3\n",
        "q3 = df.groupBy(\"year\", \"flow\").count()\n",
        "q3\n"
      ],
      "metadata": {
        "id": "cCH7nk6UICkz",
        "colab": {
          "base_uri": "https://localhost:8080/",
          "height": 517
        },
        "outputId": "18ebcfe6-ef16-4f38-ba95-e10ccd71899a"
      },
      "execution_count": null,
      "outputs": [
        {
          "output_type": "execute_result",
          "data": {
            "text/plain": [
              "+----+---------+-----+\n",
              "|year|     flow|count|\n",
              "+----+---------+-----+\n",
              "|2011|   Import|62270|\n",
              "|2006|   Import|64345|\n",
              "|1994|Re-Export| 2094|\n",
              "|2009|   Export|35489|\n",
              "|1998|   Import|49870|\n",
              "|2012|   Export|35241|\n",
              "|1999|Re-Export| 4049|\n",
              "|2006|   Export|36981|\n",
              "|2015|Re-Import| 3005|\n",
              "|2014|Re-Import| 2902|\n",
              "|2007|Re-Import| 2640|\n",
              "|2006|Re-Import| 2983|\n",
              "|2004|Re-Import| 2419|\n",
              "|2008|   Export|35026|\n",
              "|1993|Re-Export| 1982|\n",
              "|2011|Re-Export| 4838|\n",
              "|1988|   Export| 3542|\n",
              "|1993|   Import|24450|\n",
              "|2016|Re-Export| 4537|\n",
              "|2000|   Export|33582|\n",
              "+----+---------+-----+\n",
              "only showing top 20 rows"
            ],
            "text/html": [
              "<table border='1'>\n",
              "<tr><th>year</th><th>flow</th><th>count</th></tr>\n",
              "<tr><td>2011</td><td>Import</td><td>62270</td></tr>\n",
              "<tr><td>2006</td><td>Import</td><td>64345</td></tr>\n",
              "<tr><td>1994</td><td>Re-Export</td><td>2094</td></tr>\n",
              "<tr><td>2009</td><td>Export</td><td>35489</td></tr>\n",
              "<tr><td>1998</td><td>Import</td><td>49870</td></tr>\n",
              "<tr><td>2012</td><td>Export</td><td>35241</td></tr>\n",
              "<tr><td>1999</td><td>Re-Export</td><td>4049</td></tr>\n",
              "<tr><td>2006</td><td>Export</td><td>36981</td></tr>\n",
              "<tr><td>2015</td><td>Re-Import</td><td>3005</td></tr>\n",
              "<tr><td>2014</td><td>Re-Import</td><td>2902</td></tr>\n",
              "<tr><td>2007</td><td>Re-Import</td><td>2640</td></tr>\n",
              "<tr><td>2006</td><td>Re-Import</td><td>2983</td></tr>\n",
              "<tr><td>2004</td><td>Re-Import</td><td>2419</td></tr>\n",
              "<tr><td>2008</td><td>Export</td><td>35026</td></tr>\n",
              "<tr><td>1993</td><td>Re-Export</td><td>1982</td></tr>\n",
              "<tr><td>2011</td><td>Re-Export</td><td>4838</td></tr>\n",
              "<tr><td>1988</td><td>Export</td><td>3542</td></tr>\n",
              "<tr><td>1993</td><td>Import</td><td>24450</td></tr>\n",
              "<tr><td>2016</td><td>Re-Export</td><td>4537</td></tr>\n",
              "<tr><td>2000</td><td>Export</td><td>33582</td></tr>\n",
              "</table>\n",
              "only showing top 20 rows\n"
            ]
          },
          "metadata": {},
          "execution_count": 14
        }
      ]
    },
    {
      "cell_type": "code",
      "source": [
        "# Question 4\n",
        "q4 = df.groupBy(\"year\").avg(\"trade_usd\")\n",
        "q4"
      ],
      "metadata": {
        "id": "0mB6KJfwNzrM",
        "colab": {
          "base_uri": "https://localhost:8080/",
          "height": 517
        },
        "outputId": "6eac2693-64d9-4e13-f7c3-b4be9bfe83fd"
      },
      "execution_count": null,
      "outputs": [
        {
          "output_type": "execute_result",
          "data": {
            "text/plain": [
              "+----+--------------------+\n",
              "|year|      avg(trade_usd)|\n",
              "+----+--------------------+\n",
              "|1990|1.3192706620958874E7|\n",
              "|2003| 1.421775659984178E7|\n",
              "|2007|  2.58920247040825E7|\n",
              "|2015|  3.18705453775215E7|\n",
              "|2006| 2.309561335510047E7|\n",
              "|2013| 4.000417948798862E7|\n",
              "|1997|1.0552287985399866E7|\n",
              "|1988|1.6750924673436042E7|\n",
              "|1994|1.1536598545389062E7|\n",
              "|2014|  4.07714802568802E7|\n",
              "|2004| 1.528377417530457E7|\n",
              "|1991|1.2069165192609925E7|\n",
              "|1996| 1.199597126387271E7|\n",
              "|1989|1.1040023169484511E7|\n",
              "|1998|1.0251539570903756E7|\n",
              "|2012|3.6993817061880395E7|\n",
              "|2009|2.5688655388272807E7|\n",
              "|2016|2.8671598648091204E7|\n",
              "|1995|1.1727225375201566E7|\n",
              "|2001|1.0226900917677911E7|\n",
              "+----+--------------------+\n",
              "only showing top 20 rows"
            ],
            "text/html": [
              "<table border='1'>\n",
              "<tr><th>year</th><th>avg(trade_usd)</th></tr>\n",
              "<tr><td>1990</td><td>1.3192706620958874E7</td></tr>\n",
              "<tr><td>2003</td><td>1.421775659984178E7</td></tr>\n",
              "<tr><td>2007</td><td>2.58920247040825E7</td></tr>\n",
              "<tr><td>2015</td><td>3.18705453775215E7</td></tr>\n",
              "<tr><td>2006</td><td>2.309561335510047E7</td></tr>\n",
              "<tr><td>2013</td><td>4.000417948798862E7</td></tr>\n",
              "<tr><td>1997</td><td>1.0552287985399866E7</td></tr>\n",
              "<tr><td>1988</td><td>1.6750924673436042E7</td></tr>\n",
              "<tr><td>1994</td><td>1.1536598545389062E7</td></tr>\n",
              "<tr><td>2014</td><td>4.07714802568802E7</td></tr>\n",
              "<tr><td>2004</td><td>1.528377417530457E7</td></tr>\n",
              "<tr><td>1991</td><td>1.2069165192609925E7</td></tr>\n",
              "<tr><td>1996</td><td>1.199597126387271E7</td></tr>\n",
              "<tr><td>1989</td><td>1.1040023169484511E7</td></tr>\n",
              "<tr><td>1998</td><td>1.0251539570903756E7</td></tr>\n",
              "<tr><td>2012</td><td>3.6993817061880395E7</td></tr>\n",
              "<tr><td>2009</td><td>2.5688655388272807E7</td></tr>\n",
              "<tr><td>2016</td><td>2.8671598648091204E7</td></tr>\n",
              "<tr><td>1995</td><td>1.1727225375201566E7</td></tr>\n",
              "<tr><td>2001</td><td>1.0226900917677911E7</td></tr>\n",
              "</table>\n",
              "only showing top 20 rows\n"
            ]
          },
          "metadata": {},
          "execution_count": 13
        }
      ]
    },
    {
      "cell_type": "code",
      "source": [
        ""
      ],
      "metadata": {
        "id": "2L-75pevOhAl"
      },
      "execution_count": null,
      "outputs": []
    },
    {
      "cell_type": "code",
      "source": [
        "#Questão 5\n",
        "# (Easy) The average price of commodities per unit type, year, and category in the export flow in Brazil;\n",
        "q5 = df.filter(col(\"flow\").like(\"Export\")).filter(col(\"country_or_area\").like(\"Brazil\")).groupBy(\"year\",\"quantity_name\", \"category\").avg(\"trade_usd\").orderBy(col(\"avg(trade_usd)\").desc())\n",
        "q5"
      ],
      "metadata": {
        "id": "KhOKMifCP3S1",
        "colab": {
          "base_uri": "https://localhost:8080/",
          "height": 517
        },
        "outputId": "bf4a249a-2561-47e2-bd9e-9bd076e193f8"
      },
      "execution_count": null,
      "outputs": [
        {
          "output_type": "execute_result",
          "data": {
            "text/plain": [
              "+----+--------------------+--------------------+--------------------+\n",
              "|year|       quantity_name|            category|      avg(trade_usd)|\n",
              "+----+--------------------+--------------------+--------------------+\n",
              "|2015|     Number of items|88_aircraft_space...|       3.031369794E9|\n",
              "|2012| Weight in kilograms|27_mineral_fuels_...|2.8609339226666665E9|\n",
              "|2001|     Number of items|88_aircraft_space...|       2.808453981E9|\n",
              "|2012|     Number of items|88_aircraft_space...|       1.790261438E9|\n",
              "|2016| Weight in kilograms|26_ores_slag_and_ash|        1.66218356E9|\n",
              "|2016| Weight in kilograms|17_sugars_and_sug...|      1.6572273834E9|\n",
              "|2015| Weight in kilograms|23_residues_waste...|     1.45606111375E9|\n",
              "|2010| Weight in kilograms|27_mineral_fuels_...|1.3656568598333333E9|\n",
              "|2014| Weight in kilograms|17_sugars_and_sug...| 1.356273969857143E9|\n",
              "|2014| Weight in kilograms|09_coffee_tea_mat...|      1.2317656416E9|\n",
              "|2010| Weight in kilograms|23_residues_waste...|       1.193381116E9|\n",
              "|2010| Weight in kilograms|26_ores_slag_and_ash|    1.179427102375E9|\n",
              "|2013|     Number of items|89_ships_boats_an...|1.1291718935714285E9|\n",
              "|2009|Electrical energy...|27_mineral_fuels_...|       1.096087173E9|\n",
              "|2009| Weight in kilograms|47_pulp_of_wood_f...|       1.024383212E9|\n",
              "|2005| Weight in kilograms|47_pulp_of_wood_f...|       9.879100545E8|\n",
              "|2013| Weight in kilograms|47_pulp_of_wood_f...|         9.6602781E8|\n",
              "|2015| Weight in kilograms|17_sugars_and_sug...|       8.725046285E8|\n",
              "|2014| Weight in kilograms|02_meat_and_edibl...| 8.612523084545455E8|\n",
              "|2005| Weight in kilograms|26_ores_slag_and_ash|        8.38178207E8|\n",
              "+----+--------------------+--------------------+--------------------+\n",
              "only showing top 20 rows"
            ],
            "text/html": [
              "<table border='1'>\n",
              "<tr><th>year</th><th>quantity_name</th><th>category</th><th>avg(trade_usd)</th></tr>\n",
              "<tr><td>2015</td><td>Number of items</td><td>88_aircraft_space...</td><td>3.031369794E9</td></tr>\n",
              "<tr><td>2012</td><td>Weight in kilograms</td><td>27_mineral_fuels_...</td><td>2.8609339226666665E9</td></tr>\n",
              "<tr><td>2001</td><td>Number of items</td><td>88_aircraft_space...</td><td>2.808453981E9</td></tr>\n",
              "<tr><td>2012</td><td>Number of items</td><td>88_aircraft_space...</td><td>1.790261438E9</td></tr>\n",
              "<tr><td>2016</td><td>Weight in kilograms</td><td>26_ores_slag_and_ash</td><td>1.66218356E9</td></tr>\n",
              "<tr><td>2016</td><td>Weight in kilograms</td><td>17_sugars_and_sug...</td><td>1.6572273834E9</td></tr>\n",
              "<tr><td>2015</td><td>Weight in kilograms</td><td>23_residues_waste...</td><td>1.45606111375E9</td></tr>\n",
              "<tr><td>2010</td><td>Weight in kilograms</td><td>27_mineral_fuels_...</td><td>1.3656568598333333E9</td></tr>\n",
              "<tr><td>2014</td><td>Weight in kilograms</td><td>17_sugars_and_sug...</td><td>1.356273969857143E9</td></tr>\n",
              "<tr><td>2014</td><td>Weight in kilograms</td><td>09_coffee_tea_mat...</td><td>1.2317656416E9</td></tr>\n",
              "<tr><td>2010</td><td>Weight in kilograms</td><td>23_residues_waste...</td><td>1.193381116E9</td></tr>\n",
              "<tr><td>2010</td><td>Weight in kilograms</td><td>26_ores_slag_and_ash</td><td>1.179427102375E9</td></tr>\n",
              "<tr><td>2013</td><td>Number of items</td><td>89_ships_boats_an...</td><td>1.1291718935714285E9</td></tr>\n",
              "<tr><td>2009</td><td>Electrical energy...</td><td>27_mineral_fuels_...</td><td>1.096087173E9</td></tr>\n",
              "<tr><td>2009</td><td>Weight in kilograms</td><td>47_pulp_of_wood_f...</td><td>1.024383212E9</td></tr>\n",
              "<tr><td>2005</td><td>Weight in kilograms</td><td>47_pulp_of_wood_f...</td><td>9.879100545E8</td></tr>\n",
              "<tr><td>2013</td><td>Weight in kilograms</td><td>47_pulp_of_wood_f...</td><td>9.6602781E8</td></tr>\n",
              "<tr><td>2015</td><td>Weight in kilograms</td><td>17_sugars_and_sug...</td><td>8.725046285E8</td></tr>\n",
              "<tr><td>2014</td><td>Weight in kilograms</td><td>02_meat_and_edibl...</td><td>8.612523084545455E8</td></tr>\n",
              "<tr><td>2005</td><td>Weight in kilograms</td><td>26_ores_slag_and_ash</td><td>8.38178207E8</td></tr>\n",
              "</table>\n",
              "only showing top 20 rows\n"
            ]
          },
          "metadata": {},
          "execution_count": 20
        }
      ]
    },
    {
      "cell_type": "code",
      "source": [
        "from pyspark.sql import functions\n",
        "#Questão 6\n",
        "#(Medium) The maximum, minimum, and mean transaction price per unit type and year; \n",
        "q6 = df.groupBy('quantity_name','year').agg(functions.avg(\"trade_usd\"),functions.min(\"trade_usd\"),functions.max(\"trade_usd\")).orderBy(col(\"min(trade_usd)\").desc())\n",
        "q6"
      ],
      "metadata": {
        "id": "_9bKrM4XHxCs",
        "colab": {
          "base_uri": "https://localhost:8080/",
          "height": 517
        },
        "outputId": "8afd4e02-4b28-4f21-b7a4-68d3a5c70b9f"
      },
      "execution_count": null,
      "outputs": [
        {
          "output_type": "execute_result",
          "data": {
            "text/plain": [
              "+--------------------+----+--------------------+--------------+--------------+\n",
              "|       quantity_name|year|      avg(trade_usd)|min(trade_usd)|max(trade_usd)|\n",
              "+--------------------+----+--------------------+--------------+--------------+\n",
              "|Electrical energy...|1992|        5.92373504E8|     592373504|     592373504|\n",
              "|Electrical energy...|1993|         1.6497984E8|     164979840|     164979840|\n",
              "|Electrical energy...|1997|         1.3823917E7|      13823917|      13823917|\n",
              "|Electrical energy...|1995|         4.0169258E7|       8578900|      71759616|\n",
              "|Electrical energy...|2003|2.3069874154545453E8|       7981734|    1323045556|\n",
              "|Electrical energy...|1988|           5512366.0|       5512366|       5512366|\n",
              "|Electrical energy...|2004|3.1372816435714287E8|       4654835|    2554542956|\n",
              "|Electrical energy...|2016|      1.7653582575E8|       1128262|    1065282687|\n",
              "|    Weight in carats|2016|          4496360.75|        116633|       9557468|\n",
              "|Electrical energy...|2005|        5.33058761E8|         76645|    3983261240|\n",
              "|    Weight in carats|1992| 8.654455033333333E7|         57850|     263142786|\n",
              "|  Number of packages|2004|            436233.5|         57137|        815330|\n",
              "|Electrical energy...|2002|      3.0743581825E8|         41605|    1774113687|\n",
              "|    Weight in carats|2015|  2155988.1666666665|         28924|       9390721|\n",
              "|  Number of packages|2014|   2869806.409090909|          9735|      22062840|\n",
              "|Electrical energy...|2008|   2.4739115646875E8|          9395|    1327947000|\n",
              "|Electrical energy...|2001|        1.53843328E8|          7193|     655549474|\n",
              "|  Number of packages|2001|   4632103.833333333|          6987|      14215790|\n",
              "|  Thousands of items|2014|  3547609.4615384615|          4932|      30983170|\n",
              "|  Number of packages|2003|           6557848.5|          3059|      13074653|\n",
              "+--------------------+----+--------------------+--------------+--------------+\n",
              "only showing top 20 rows"
            ],
            "text/html": [
              "<table border='1'>\n",
              "<tr><th>quantity_name</th><th>year</th><th>avg(trade_usd)</th><th>min(trade_usd)</th><th>max(trade_usd)</th></tr>\n",
              "<tr><td>Electrical energy...</td><td>1992</td><td>5.92373504E8</td><td>592373504</td><td>592373504</td></tr>\n",
              "<tr><td>Electrical energy...</td><td>1993</td><td>1.6497984E8</td><td>164979840</td><td>164979840</td></tr>\n",
              "<tr><td>Electrical energy...</td><td>1997</td><td>1.3823917E7</td><td>13823917</td><td>13823917</td></tr>\n",
              "<tr><td>Electrical energy...</td><td>1995</td><td>4.0169258E7</td><td>8578900</td><td>71759616</td></tr>\n",
              "<tr><td>Electrical energy...</td><td>2003</td><td>2.3069874154545453E8</td><td>7981734</td><td>1323045556</td></tr>\n",
              "<tr><td>Electrical energy...</td><td>1988</td><td>5512366.0</td><td>5512366</td><td>5512366</td></tr>\n",
              "<tr><td>Electrical energy...</td><td>2004</td><td>3.1372816435714287E8</td><td>4654835</td><td>2554542956</td></tr>\n",
              "<tr><td>Electrical energy...</td><td>2016</td><td>1.7653582575E8</td><td>1128262</td><td>1065282687</td></tr>\n",
              "<tr><td>Weight in carats</td><td>2016</td><td>4496360.75</td><td>116633</td><td>9557468</td></tr>\n",
              "<tr><td>Electrical energy...</td><td>2005</td><td>5.33058761E8</td><td>76645</td><td>3983261240</td></tr>\n",
              "<tr><td>Weight in carats</td><td>1992</td><td>8.654455033333333E7</td><td>57850</td><td>263142786</td></tr>\n",
              "<tr><td>Number of packages</td><td>2004</td><td>436233.5</td><td>57137</td><td>815330</td></tr>\n",
              "<tr><td>Electrical energy...</td><td>2002</td><td>3.0743581825E8</td><td>41605</td><td>1774113687</td></tr>\n",
              "<tr><td>Weight in carats</td><td>2015</td><td>2155988.1666666665</td><td>28924</td><td>9390721</td></tr>\n",
              "<tr><td>Number of packages</td><td>2014</td><td>2869806.409090909</td><td>9735</td><td>22062840</td></tr>\n",
              "<tr><td>Electrical energy...</td><td>2008</td><td>2.4739115646875E8</td><td>9395</td><td>1327947000</td></tr>\n",
              "<tr><td>Electrical energy...</td><td>2001</td><td>1.53843328E8</td><td>7193</td><td>655549474</td></tr>\n",
              "<tr><td>Number of packages</td><td>2001</td><td>4632103.833333333</td><td>6987</td><td>14215790</td></tr>\n",
              "<tr><td>Thousands of items</td><td>2014</td><td>3547609.4615384615</td><td>4932</td><td>30983170</td></tr>\n",
              "<tr><td>Number of packages</td><td>2003</td><td>6557848.5</td><td>3059</td><td>13074653</td></tr>\n",
              "</table>\n",
              "only showing top 20 rows\n"
            ]
          },
          "metadata": {},
          "execution_count": 24
        }
      ]
    },
    {
      "cell_type": "code",
      "source": [
        "from pyspark.sql import functions as f\n",
        "#Questao 7\n",
        "result1 = df.filter(col(\"year\").like(\"2016\")).groupBy(\"flow\",\"commodity\").sum(\"quantity\").withColumnRenamed('sum(quantity)','soma')\n",
        "\n",
        "result2 = result1.groupBy(\"flow\").max(\"soma\").withColumnRenamed(\"max(soma)\", \"maximo\")\n",
        "\n",
        "result2.alias(\"a\").join(result1.alias(\"b\"), result1.soma==result2.maximo).select(\"a.flow\",\"a.maximo\",\"b.commodity\")"
      ],
      "metadata": {
        "colab": {
          "base_uri": "https://localhost:8080/",
          "height": 134
        },
        "id": "scOrktgKMdix",
        "outputId": "222ad689-0d90-439d-f8b0-f65be7d6093f"
      },
      "execution_count": null,
      "outputs": [
        {
          "output_type": "execute_result",
          "data": {
            "text/plain": [
              "+---------+-----------------+--------------------+\n",
              "|     flow|           maximo|           commodity|\n",
              "+---------+-----------------+--------------------+\n",
              "|   Import|1.073469712878E12|Iron ore, concent...|\n",
              "|   Export| 6.99847369665E11|Ice, snow and pot...|\n",
              "|Re-Export|       1.261968E9|Safety razor blad...|\n",
              "|Re-Import|      3.8774873E7|Chem wood pulp, s...|\n",
              "+---------+-----------------+--------------------+"
            ],
            "text/html": [
              "<table border='1'>\n",
              "<tr><th>flow</th><th>maximo</th><th>commodity</th></tr>\n",
              "<tr><td>Import</td><td>1.073469712878E12</td><td>Iron ore, concent...</td></tr>\n",
              "<tr><td>Export</td><td>6.99847369665E11</td><td>Ice, snow and pot...</td></tr>\n",
              "<tr><td>Re-Export</td><td>1.261968E9</td><td>Safety razor blad...</td></tr>\n",
              "<tr><td>Re-Import</td><td>3.8774873E7</td><td>Chem wood pulp, s...</td></tr>\n",
              "</table>\n"
            ]
          },
          "metadata": {},
          "execution_count": 13
        }
      ]
    }
  ]
}